{
 "cells": [
  {
   "cell_type": "code",
   "execution_count": 1,
   "id": "157bebf1",
   "metadata": {
    "collapsed": true,
    "jupyter": {
     "outputs_hidden": true
    }
   },
   "outputs": [
    {
     "name": "stdout",
     "output_type": "stream",
     "text": [
      "Collecting strands-agents\n",
      "  Downloading strands_agents-1.0.1-py3-none-any.whl.metadata (12 kB)\n",
      "Collecting strands-agents-tools\n",
      "  Downloading strands_agents_tools-0.2.1-py3-none-any.whl.metadata (30 kB)\n",
      "Requirement already satisfied: boto3<2.0.0,>=1.26.0 in /home/ec2-user/anaconda3/envs/pytorch_p310/lib/python3.10/site-packages (from strands-agents) (1.39.3)\n",
      "Requirement already satisfied: botocore<2.0.0,>=1.29.0 in /home/ec2-user/anaconda3/envs/pytorch_p310/lib/python3.10/site-packages (from strands-agents) (1.39.3)\n",
      "Collecting docstring-parser<1.0,>=0.15 (from strands-agents)\n",
      "  Downloading docstring_parser-0.16-py3-none-any.whl.metadata (3.0 kB)\n",
      "Collecting mcp<2.0.0,>=1.8.0 (from strands-agents)\n",
      "  Downloading mcp-1.12.0-py3-none-any.whl.metadata (60 kB)\n",
      "Collecting opentelemetry-api<2.0.0,>=1.30.0 (from strands-agents)\n",
      "  Downloading opentelemetry_api-1.35.0-py3-none-any.whl.metadata (1.5 kB)\n",
      "Collecting opentelemetry-instrumentation-threading<1.00b0,>=0.51b0 (from strands-agents)\n",
      "  Downloading opentelemetry_instrumentation_threading-0.56b0-py3-none-any.whl.metadata (2.1 kB)\n",
      "Collecting opentelemetry-sdk<2.0.0,>=1.30.0 (from strands-agents)\n",
      "  Downloading opentelemetry_sdk-1.35.0-py3-none-any.whl.metadata (1.5 kB)\n",
      "Requirement already satisfied: pydantic<3.0.0,>=2.0.0 in /home/ec2-user/anaconda3/envs/pytorch_p310/lib/python3.10/site-packages (from strands-agents) (2.9.2)\n",
      "Requirement already satisfied: typing-extensions<5.0.0,>=4.13.2 in /home/ec2-user/anaconda3/envs/pytorch_p310/lib/python3.10/site-packages (from strands-agents) (4.14.0)\n",
      "Collecting watchdog<7.0.0,>=6.0.0 (from strands-agents)\n",
      "  Downloading watchdog-6.0.0-py3-none-manylinux2014_x86_64.whl.metadata (44 kB)\n",
      "Requirement already satisfied: jmespath<2.0.0,>=0.7.1 in /home/ec2-user/anaconda3/envs/pytorch_p310/lib/python3.10/site-packages (from boto3<2.0.0,>=1.26.0->strands-agents) (1.0.1)\n",
      "Requirement already satisfied: s3transfer<0.14.0,>=0.13.0 in /home/ec2-user/anaconda3/envs/pytorch_p310/lib/python3.10/site-packages (from boto3<2.0.0,>=1.26.0->strands-agents) (0.13.0)\n",
      "Requirement already satisfied: python-dateutil<3.0.0,>=2.1 in /home/ec2-user/anaconda3/envs/pytorch_p310/lib/python3.10/site-packages (from botocore<2.0.0,>=1.29.0->strands-agents) (2.9.0)\n",
      "Requirement already satisfied: urllib3!=2.2.0,<3,>=1.25.4 in /home/ec2-user/anaconda3/envs/pytorch_p310/lib/python3.10/site-packages (from botocore<2.0.0,>=1.29.0->strands-agents) (1.26.19)\n",
      "Requirement already satisfied: anyio>=4.5 in /home/ec2-user/anaconda3/envs/pytorch_p310/lib/python3.10/site-packages (from mcp<2.0.0,>=1.8.0->strands-agents) (4.9.0)\n",
      "Collecting httpx-sse>=0.4 (from mcp<2.0.0,>=1.8.0->strands-agents)\n",
      "  Downloading httpx_sse-0.4.1-py3-none-any.whl.metadata (9.4 kB)\n",
      "Collecting httpx>=0.27 (from mcp<2.0.0,>=1.8.0->strands-agents)\n",
      "  Using cached httpx-0.28.1-py3-none-any.whl.metadata (7.1 kB)\n",
      "Requirement already satisfied: jsonschema>=4.20.0 in /home/ec2-user/anaconda3/envs/pytorch_p310/lib/python3.10/site-packages (from mcp<2.0.0,>=1.8.0->strands-agents) (4.24.0)\n",
      "Collecting pydantic-settings>=2.5.2 (from mcp<2.0.0,>=1.8.0->strands-agents)\n",
      "  Downloading pydantic_settings-2.10.1-py3-none-any.whl.metadata (3.4 kB)\n",
      "Collecting python-multipart>=0.0.9 (from mcp<2.0.0,>=1.8.0->strands-agents)\n",
      "  Downloading python_multipart-0.0.20-py3-none-any.whl.metadata (1.8 kB)\n",
      "Collecting sse-starlette>=1.6.1 (from mcp<2.0.0,>=1.8.0->strands-agents)\n",
      "  Downloading sse_starlette-2.4.1-py3-none-any.whl.metadata (10 kB)\n",
      "Requirement already satisfied: starlette>=0.27 in /home/ec2-user/anaconda3/envs/pytorch_p310/lib/python3.10/site-packages (from mcp<2.0.0,>=1.8.0->strands-agents) (0.46.2)\n",
      "Requirement already satisfied: uvicorn>=0.23.1 in /home/ec2-user/anaconda3/envs/pytorch_p310/lib/python3.10/site-packages (from mcp<2.0.0,>=1.8.0->strands-agents) (0.34.3)\n",
      "Requirement already satisfied: importlib-metadata<8.8.0,>=6.0 in /home/ec2-user/anaconda3/envs/pytorch_p310/lib/python3.10/site-packages (from opentelemetry-api<2.0.0,>=1.30.0->strands-agents) (6.11.0)\n",
      "Requirement already satisfied: zipp>=0.5 in /home/ec2-user/anaconda3/envs/pytorch_p310/lib/python3.10/site-packages (from importlib-metadata<8.8.0,>=6.0->opentelemetry-api<2.0.0,>=1.30.0->strands-agents) (3.23.0)\n",
      "Collecting opentelemetry-instrumentation==0.56b0 (from opentelemetry-instrumentation-threading<1.00b0,>=0.51b0->strands-agents)\n",
      "  Downloading opentelemetry_instrumentation-0.56b0-py3-none-any.whl.metadata (6.7 kB)\n",
      "Collecting wrapt<2.0.0,>=1.0.0 (from opentelemetry-instrumentation-threading<1.00b0,>=0.51b0->strands-agents)\n",
      "  Downloading wrapt-1.17.2-cp310-cp310-manylinux_2_5_x86_64.manylinux1_x86_64.manylinux_2_17_x86_64.manylinux2014_x86_64.whl.metadata (6.4 kB)\n",
      "Collecting opentelemetry-semantic-conventions==0.56b0 (from opentelemetry-instrumentation==0.56b0->opentelemetry-instrumentation-threading<1.00b0,>=0.51b0->strands-agents)\n",
      "  Downloading opentelemetry_semantic_conventions-0.56b0-py3-none-any.whl.metadata (2.4 kB)\n",
      "Requirement already satisfied: packaging>=18.0 in /home/ec2-user/anaconda3/envs/pytorch_p310/lib/python3.10/site-packages (from opentelemetry-instrumentation==0.56b0->opentelemetry-instrumentation-threading<1.00b0,>=0.51b0->strands-agents) (24.2)\n",
      "Requirement already satisfied: annotated-types>=0.6.0 in /home/ec2-user/anaconda3/envs/pytorch_p310/lib/python3.10/site-packages (from pydantic<3.0.0,>=2.0.0->strands-agents) (0.7.0)\n",
      "Requirement already satisfied: pydantic-core==2.23.4 in /home/ec2-user/anaconda3/envs/pytorch_p310/lib/python3.10/site-packages (from pydantic<3.0.0,>=2.0.0->strands-agents) (2.23.4)\n",
      "Requirement already satisfied: six>=1.5 in /home/ec2-user/anaconda3/envs/pytorch_p310/lib/python3.10/site-packages (from python-dateutil<3.0.0,>=2.1->botocore<2.0.0,>=1.29.0->strands-agents) (1.17.0)\n",
      "Collecting aws-requests-auth<0.5.0,>=0.4.3 (from strands-agents-tools)\n",
      "  Downloading aws_requests_auth-0.4.3-py2.py3-none-any.whl.metadata (567 bytes)\n",
      "Collecting botocore<2.0.0,>=1.29.0 (from strands-agents)\n",
      "  Downloading botocore-1.39.9-py3-none-any.whl.metadata (5.7 kB)\n",
      "Requirement already satisfied: dill<0.5.0,>=0.4.0 in /home/ec2-user/anaconda3/envs/pytorch_p310/lib/python3.10/site-packages (from strands-agents-tools) (0.4.0)\n",
      "Collecting markdownify<2.0.0,>=1.0.0 (from strands-agents-tools)\n",
      "  Downloading markdownify-1.1.0-py3-none-any.whl.metadata (9.1 kB)\n",
      "Requirement already satisfied: pillow<12.0.0,>=11.2.1 in /home/ec2-user/anaconda3/envs/pytorch_p310/lib/python3.10/site-packages (from strands-agents-tools) (11.2.1)\n",
      "Collecting prompt-toolkit<4.0.0,>=3.0.51 (from strands-agents-tools)\n",
      "  Downloading prompt_toolkit-3.0.51-py3-none-any.whl.metadata (6.4 kB)\n",
      "Collecting pyjwt<3.0.0,>=2.10.1 (from strands-agents-tools)\n",
      "  Downloading PyJWT-2.10.1-py3-none-any.whl.metadata (4.0 kB)\n",
      "Collecting readabilipy<1.0.0,>=0.2.0 (from strands-agents-tools)\n",
      "  Downloading readabilipy-0.3.0-py3-none-any.whl.metadata (8.9 kB)\n",
      "Requirement already satisfied: rich<15.0.0,>=14.0.0 in /home/ec2-user/anaconda3/envs/pytorch_p310/lib/python3.10/site-packages (from strands-agents-tools) (14.0.0)\n",
      "Collecting slack-bolt<2.0.0,>=1.23.0 (from strands-agents-tools)\n",
      "  Downloading slack_bolt-1.23.0-py2.py3-none-any.whl.metadata (11 kB)\n",
      "Requirement already satisfied: sympy<2.0.0,>=1.12.0 in /home/ec2-user/anaconda3/envs/pytorch_p310/lib/python3.10/site-packages (from strands-agents-tools) (1.14.0)\n",
      "Requirement already satisfied: tenacity<10.0.0,>=9.1.2 in /home/ec2-user/anaconda3/envs/pytorch_p310/lib/python3.10/site-packages (from strands-agents-tools) (9.1.2)\n",
      "Requirement already satisfied: requests>=0.14.0 in /home/ec2-user/anaconda3/envs/pytorch_p310/lib/python3.10/site-packages (from aws-requests-auth<0.5.0,>=0.4.3->strands-agents-tools) (2.32.4)\n",
      "Requirement already satisfied: beautifulsoup4<5,>=4.9 in /home/ec2-user/anaconda3/envs/pytorch_p310/lib/python3.10/site-packages (from markdownify<2.0.0,>=1.0.0->strands-agents-tools) (4.13.4)\n",
      "Requirement already satisfied: soupsieve>1.2 in /home/ec2-user/anaconda3/envs/pytorch_p310/lib/python3.10/site-packages (from beautifulsoup4<5,>=4.9->markdownify<2.0.0,>=1.0.0->strands-agents-tools) (2.7)\n",
      "Requirement already satisfied: wcwidth in /home/ec2-user/anaconda3/envs/pytorch_p310/lib/python3.10/site-packages (from prompt-toolkit<4.0.0,>=3.0.51->strands-agents-tools) (0.2.13)\n",
      "Collecting html5lib (from readabilipy<1.0.0,>=0.2.0->strands-agents-tools)\n",
      "  Downloading html5lib-1.1-py2.py3-none-any.whl.metadata (16 kB)\n",
      "Collecting lxml (from readabilipy<1.0.0,>=0.2.0->strands-agents-tools)\n",
      "  Downloading lxml-6.0.0-cp310-cp310-manylinux2014_x86_64.manylinux_2_17_x86_64.whl.metadata (6.6 kB)\n",
      "Requirement already satisfied: regex in /home/ec2-user/anaconda3/envs/pytorch_p310/lib/python3.10/site-packages (from readabilipy<1.0.0,>=0.2.0->strands-agents-tools) (2024.11.6)\n",
      "Requirement already satisfied: markdown-it-py>=2.2.0 in /home/ec2-user/anaconda3/envs/pytorch_p310/lib/python3.10/site-packages (from rich<15.0.0,>=14.0.0->strands-agents-tools) (3.0.0)\n",
      "Requirement already satisfied: pygments<3.0.0,>=2.13.0 in /home/ec2-user/anaconda3/envs/pytorch_p310/lib/python3.10/site-packages (from rich<15.0.0,>=14.0.0->strands-agents-tools) (2.19.2)\n",
      "Collecting slack_sdk<4,>=3.35.0 (from slack-bolt<2.0.0,>=1.23.0->strands-agents-tools)\n",
      "  Downloading slack_sdk-3.36.0-py2.py3-none-any.whl.metadata (15 kB)\n",
      "Requirement already satisfied: mpmath<1.4,>=1.1.0 in /home/ec2-user/anaconda3/envs/pytorch_p310/lib/python3.10/site-packages (from sympy<2.0.0,>=1.12.0->strands-agents-tools) (1.3.0)\n",
      "Requirement already satisfied: exceptiongroup>=1.0.2 in /home/ec2-user/anaconda3/envs/pytorch_p310/lib/python3.10/site-packages (from anyio>=4.5->mcp<2.0.0,>=1.8.0->strands-agents) (1.3.0)\n",
      "Requirement already satisfied: idna>=2.8 in /home/ec2-user/anaconda3/envs/pytorch_p310/lib/python3.10/site-packages (from anyio>=4.5->mcp<2.0.0,>=1.8.0->strands-agents) (3.10)\n",
      "Requirement already satisfied: sniffio>=1.1 in /home/ec2-user/anaconda3/envs/pytorch_p310/lib/python3.10/site-packages (from anyio>=4.5->mcp<2.0.0,>=1.8.0->strands-agents) (1.3.1)\n",
      "Requirement already satisfied: certifi in /home/ec2-user/anaconda3/envs/pytorch_p310/lib/python3.10/site-packages (from httpx>=0.27->mcp<2.0.0,>=1.8.0->strands-agents) (2025.6.15)\n",
      "Collecting httpcore==1.* (from httpx>=0.27->mcp<2.0.0,>=1.8.0->strands-agents)\n",
      "  Using cached httpcore-1.0.9-py3-none-any.whl.metadata (21 kB)\n",
      "Requirement already satisfied: h11>=0.16 in /home/ec2-user/anaconda3/envs/pytorch_p310/lib/python3.10/site-packages (from httpcore==1.*->httpx>=0.27->mcp<2.0.0,>=1.8.0->strands-agents) (0.16.0)\n",
      "Requirement already satisfied: attrs>=22.2.0 in /home/ec2-user/anaconda3/envs/pytorch_p310/lib/python3.10/site-packages (from jsonschema>=4.20.0->mcp<2.0.0,>=1.8.0->strands-agents) (25.3.0)\n",
      "Requirement already satisfied: jsonschema-specifications>=2023.03.6 in /home/ec2-user/anaconda3/envs/pytorch_p310/lib/python3.10/site-packages (from jsonschema>=4.20.0->mcp<2.0.0,>=1.8.0->strands-agents) (2025.4.1)\n",
      "Requirement already satisfied: referencing>=0.28.4 in /home/ec2-user/anaconda3/envs/pytorch_p310/lib/python3.10/site-packages (from jsonschema>=4.20.0->mcp<2.0.0,>=1.8.0->strands-agents) (0.36.2)\n",
      "Requirement already satisfied: rpds-py>=0.7.1 in /home/ec2-user/anaconda3/envs/pytorch_p310/lib/python3.10/site-packages (from jsonschema>=4.20.0->mcp<2.0.0,>=1.8.0->strands-agents) (0.25.1)\n",
      "Requirement already satisfied: mdurl~=0.1 in /home/ec2-user/anaconda3/envs/pytorch_p310/lib/python3.10/site-packages (from markdown-it-py>=2.2.0->rich<15.0.0,>=14.0.0->strands-agents-tools) (0.1.2)\n",
      "Collecting python-dotenv>=0.21.0 (from pydantic-settings>=2.5.2->mcp<2.0.0,>=1.8.0->strands-agents)\n",
      "  Downloading python_dotenv-1.1.1-py3-none-any.whl.metadata (24 kB)\n",
      "Requirement already satisfied: typing-inspection>=0.4.0 in /home/ec2-user/anaconda3/envs/pytorch_p310/lib/python3.10/site-packages (from pydantic-settings>=2.5.2->mcp<2.0.0,>=1.8.0->strands-agents) (0.4.1)\n",
      "Requirement already satisfied: charset_normalizer<4,>=2 in /home/ec2-user/anaconda3/envs/pytorch_p310/lib/python3.10/site-packages (from requests>=0.14.0->aws-requests-auth<0.5.0,>=0.4.3->strands-agents-tools) (3.4.2)\n",
      "Requirement already satisfied: click>=7.0 in /home/ec2-user/anaconda3/envs/pytorch_p310/lib/python3.10/site-packages (from uvicorn>=0.23.1->mcp<2.0.0,>=1.8.0->strands-agents) (8.1.8)\n",
      "Requirement already satisfied: webencodings in /home/ec2-user/anaconda3/envs/pytorch_p310/lib/python3.10/site-packages (from html5lib->readabilipy<1.0.0,>=0.2.0->strands-agents-tools) (0.5.1)\n",
      "Downloading strands_agents-1.0.1-py3-none-any.whl (162 kB)\n",
      "Downloading docstring_parser-0.16-py3-none-any.whl (36 kB)\n",
      "Downloading mcp-1.12.0-py3-none-any.whl (158 kB)\n",
      "Downloading opentelemetry_api-1.35.0-py3-none-any.whl (65 kB)\n",
      "Downloading opentelemetry_instrumentation_threading-0.56b0-py3-none-any.whl (9.3 kB)\n",
      "Downloading opentelemetry_instrumentation-0.56b0-py3-none-any.whl (31 kB)\n",
      "Downloading opentelemetry_semantic_conventions-0.56b0-py3-none-any.whl (201 kB)\n",
      "Downloading opentelemetry_sdk-1.35.0-py3-none-any.whl (119 kB)\n",
      "Downloading watchdog-6.0.0-py3-none-manylinux2014_x86_64.whl (79 kB)\n",
      "Downloading wrapt-1.17.2-cp310-cp310-manylinux_2_5_x86_64.manylinux1_x86_64.manylinux_2_17_x86_64.manylinux2014_x86_64.whl (82 kB)\n",
      "Downloading strands_agents_tools-0.2.1-py3-none-any.whl (229 kB)\n",
      "Downloading aws_requests_auth-0.4.3-py2.py3-none-any.whl (6.8 kB)\n",
      "Downloading botocore-1.39.9-py3-none-any.whl (13.9 MB)\n",
      "\u001b[2K   \u001b[90m━━━━━━━━━━━━━━━━━━━━━━━━━━━━━━━━━━━━━━━━\u001b[0m \u001b[32m13.9/13.9 MB\u001b[0m \u001b[31m139.5 MB/s\u001b[0m eta \u001b[36m0:00:00\u001b[0m\n",
      "\u001b[?25hDownloading markdownify-1.1.0-py3-none-any.whl (13 kB)\n",
      "Downloading prompt_toolkit-3.0.51-py3-none-any.whl (387 kB)\n",
      "Downloading PyJWT-2.10.1-py3-none-any.whl (22 kB)\n",
      "Downloading readabilipy-0.3.0-py3-none-any.whl (22 kB)\n",
      "Downloading slack_bolt-1.23.0-py2.py3-none-any.whl (229 kB)\n",
      "Downloading slack_sdk-3.36.0-py2.py3-none-any.whl (293 kB)\n",
      "Using cached httpx-0.28.1-py3-none-any.whl (73 kB)\n",
      "Using cached httpcore-1.0.9-py3-none-any.whl (78 kB)\n",
      "Downloading httpx_sse-0.4.1-py3-none-any.whl (8.1 kB)\n",
      "Downloading pydantic_settings-2.10.1-py3-none-any.whl (45 kB)\n",
      "Downloading python_dotenv-1.1.1-py3-none-any.whl (20 kB)\n",
      "Downloading python_multipart-0.0.20-py3-none-any.whl (24 kB)\n",
      "Downloading sse_starlette-2.4.1-py3-none-any.whl (10 kB)\n",
      "Downloading html5lib-1.1-py2.py3-none-any.whl (112 kB)\n",
      "Downloading lxml-6.0.0-cp310-cp310-manylinux2014_x86_64.manylinux_2_17_x86_64.whl (5.2 MB)\n",
      "\u001b[2K   \u001b[90m━━━━━━━━━━━━━━━━━━━━━━━━━━━━━━━━━━━━━━━━\u001b[0m \u001b[32m5.2/5.2 MB\u001b[0m \u001b[31m88.0 MB/s\u001b[0m eta \u001b[36m0:00:00\u001b[0m\n",
      "\u001b[?25hInstalling collected packages: wrapt, watchdog, slack_sdk, python-multipart, python-dotenv, pyjwt, prompt-toolkit, lxml, httpx-sse, httpcore, html5lib, docstring-parser, slack-bolt, readabilipy, opentelemetry-api, markdownify, botocore, aws-requests-auth, sse-starlette, pydantic-settings, opentelemetry-semantic-conventions, httpx, opentelemetry-sdk, opentelemetry-instrumentation, mcp, opentelemetry-instrumentation-threading, strands-agents, strands-agents-tools\n",
      "\u001b[2K  Attempting uninstall: prompt-toolkit━━━━━━━━━━━━━━━━━━━━━━━━━━━━\u001b[0m \u001b[32m 3/28\u001b[0m [python-multipart]\n",
      "\u001b[2K    Found existing installation: prompt-toolkit 3.0.38━━━━━━━━\u001b[0m \u001b[32m 3/28\u001b[0m [python-multipart]\n",
      "\u001b[2K    Uninstalling prompt-toolkit-3.0.38:━━━━━━━━━━━━━━━━━━━━━━━━━━━\u001b[0m \u001b[32m 6/28\u001b[0m [prompt-toolkit]\n",
      "\u001b[2K      Successfully uninstalled prompt-toolkit-3.0.38━━━━━━━━━━\u001b[0m \u001b[32m 6/28\u001b[0m [prompt-toolkit]\n",
      "\u001b[2K  Attempting uninstall: botocore91m╸\u001b[0m\u001b[90m━━━━━━━━━━━━━━━━━━━━━\u001b[0m \u001b[32m13/28\u001b[0m [readabilipy]it]\n",
      "\u001b[2K    Found existing installation: botocore 1.39.3━━━━━━━━━━━━━━\u001b[0m \u001b[32m13/28\u001b[0m [readabilipy]\n",
      "\u001b[2K    Uninstalling botocore-1.39.3:m\u001b[91m╸\u001b[0m\u001b[90m━━━━━━━━━━━━━━━━━\u001b[0m \u001b[32m16/28\u001b[0m [botocore]\n",
      "\u001b[2K      Successfully uninstalled botocore-1.39.3━━━━━━━━━━━━━━━━\u001b[0m \u001b[32m16/28\u001b[0m [botocore]\n",
      "\u001b[2K   \u001b[90m━━━━━━━━━━━━━━━━━━━━━━━━━━━━━━━━━━━━━━━━\u001b[0m \u001b[32m28/28\u001b[0m [strands-agents-tools]ands-agents]c-conventions]\n",
      "\u001b[1A\u001b[2K\u001b[31mERROR: pip's dependency resolver does not currently take into account all the packages that are installed. This behaviour is the source of the following dependency conflicts.\n",
      "awscli 1.41.3 requires botocore==1.39.3, but you have botocore 1.39.9 which is incompatible.\u001b[0m\u001b[31m\n",
      "\u001b[0mSuccessfully installed aws-requests-auth-0.4.3 botocore-1.39.9 docstring-parser-0.16 html5lib-1.1 httpcore-1.0.9 httpx-0.28.1 httpx-sse-0.4.1 lxml-6.0.0 markdownify-1.1.0 mcp-1.12.0 opentelemetry-api-1.35.0 opentelemetry-instrumentation-0.56b0 opentelemetry-instrumentation-threading-0.56b0 opentelemetry-sdk-1.35.0 opentelemetry-semantic-conventions-0.56b0 prompt-toolkit-3.0.51 pydantic-settings-2.10.1 pyjwt-2.10.1 python-dotenv-1.1.1 python-multipart-0.0.20 readabilipy-0.3.0 slack-bolt-1.23.0 slack_sdk-3.36.0 sse-starlette-2.4.1 strands-agents-1.0.1 strands-agents-tools-0.2.1 watchdog-6.0.0 wrapt-1.17.2\n"
     ]
    }
   ],
   "source": [
    "!pip install strands-agents strands-agents-tools"
   ]
  },
  {
   "cell_type": "code",
   "execution_count": 10,
   "id": "1e8351cd",
   "metadata": {},
   "outputs": [],
   "source": [
    "from strands import Agent, tool\n",
    "from strands.models import BedrockModel\n",
    "from pathlib import Path\n",
    "from strands_tools import current_time, http_request, use_aws"
   ]
  },
  {
   "cell_type": "code",
   "execution_count": 3,
   "id": "ff1ff7e1",
   "metadata": {},
   "outputs": [],
   "source": [
    "bedrock_model = BedrockModel(\n",
    "  model_id=\"amazon.nova-lite-v1:0\", \n",
    "  region_name=\"us-east-1\",\n",
    "  temperature=0.3,\n",
    "  streaming=True, # Enable/disable streaming\n",
    ")"
   ]
  },
  {
   "cell_type": "code",
   "execution_count": 12,
   "id": "e5c84328",
   "metadata": {},
   "outputs": [],
   "source": [
    "agent = Agent(\n",
    "        model = bedrock_model,\n",
    "        tools=[get_current_time, search_web],\n",
    "        system_prompt=\"You are an helpful assistant\"\n",
    "\n",
    ")"
   ]
  },
  {
   "cell_type": "code",
   "execution_count": 13,
   "id": "dbc444a9",
   "metadata": {},
   "outputs": [
    {
     "name": "stdout",
     "output_type": "stream",
     "text": [
      "<thinking>To find the current time in Hyderabad, I need to use the \"get_current_time\" tool. This tool will return the current date and time, and I can then determine the time in Hyderabad based on its time zone.</thinking>\n",
      "\n",
      "Tool #1: get_current_time\n",
      "<thinking>The current time in Hyderabad, based on the result from the \"get_current_time\" tool, is 16:30:10 on July 20, 2025. Hyderabad is in the Indian Standard Time (IST) zone, which is UTC+5:30. Therefore, the current time in Hyderabad is 16:30:10 IST.</thinking>\n",
      "\n",
      "\n",
      "\n",
      "The current time in Hyderabad is 16:30:10 IST on July 20, 2025."
     ]
    },
    {
     "data": {
      "text/plain": [
       "AgentResult(stop_reason='end_turn', message={'role': 'assistant', 'content': [{'text': '<thinking>The current time in Hyderabad, based on the result from the \"get_current_time\" tool, is 16:30:10 on July 20, 2025. Hyderabad is in the Indian Standard Time (IST) zone, which is UTC+5:30. Therefore, the current time in Hyderabad is 16:30:10 IST.</thinking>\\n\\n\\n\\nThe current time in Hyderabad is 16:30:10 IST on July 20, 2025.'}]}, metrics=EventLoopMetrics(cycle_count=2, tool_metrics={'get_current_time': ToolMetrics(tool={'toolUseId': 'tooluse_gx3Y7LxXQcK8xzm2FT80FA', 'name': 'get_current_time', 'input': {}}, call_count=1, success_count=1, error_count=0, total_time=0.0004799365997314453)}, cycle_durations=[1.1677696704864502], traces=[<strands.telemetry.metrics.Trace object at 0x7f14ae0f5cf0>, <strands.telemetry.metrics.Trace object at 0x7f14ad7a8670>], accumulated_usage={'inputTokens': 1015, 'outputTokens': 192, 'totalTokens': 1207}, accumulated_metrics={'latencyMs': 1889}), state={})"
      ]
     },
     "execution_count": 13,
     "metadata": {},
     "output_type": "execute_result"
    }
   ],
   "source": [
    "query=\"What is current time in hyderabad\"\n",
    "agent(query)"
   ]
  },
  {
   "cell_type": "code",
   "execution_count": 7,
   "id": "43b72985",
   "metadata": {},
   "outputs": [
    {
     "name": "stdout",
     "output_type": "stream",
     "text": [
      "Collecting awslabs.mcp_lambda_handler\n",
      "  Downloading awslabs_mcp_lambda_handler-0.1.6-py3-none-any.whl.metadata (3.9 kB)\n",
      "Requirement already satisfied: boto3>=1.38.1 in /home/ec2-user/anaconda3/envs/pytorch_p310/lib/python3.10/site-packages (from awslabs.mcp_lambda_handler) (1.39.3)\n",
      "Requirement already satisfied: botocore>=1.38.1 in /home/ec2-user/anaconda3/envs/pytorch_p310/lib/python3.10/site-packages (from awslabs.mcp_lambda_handler) (1.39.9)\n",
      "Requirement already satisfied: python-dateutil>=2.8.2 in /home/ec2-user/anaconda3/envs/pytorch_p310/lib/python3.10/site-packages (from awslabs.mcp_lambda_handler) (2.9.0)\n",
      "Requirement already satisfied: jmespath<2.0.0,>=0.7.1 in /home/ec2-user/anaconda3/envs/pytorch_p310/lib/python3.10/site-packages (from boto3>=1.38.1->awslabs.mcp_lambda_handler) (1.0.1)\n",
      "Requirement already satisfied: s3transfer<0.14.0,>=0.13.0 in /home/ec2-user/anaconda3/envs/pytorch_p310/lib/python3.10/site-packages (from boto3>=1.38.1->awslabs.mcp_lambda_handler) (0.13.0)\n",
      "Requirement already satisfied: urllib3!=2.2.0,<3,>=1.25.4 in /home/ec2-user/anaconda3/envs/pytorch_p310/lib/python3.10/site-packages (from botocore>=1.38.1->awslabs.mcp_lambda_handler) (1.26.19)\n",
      "Requirement already satisfied: six>=1.5 in /home/ec2-user/anaconda3/envs/pytorch_p310/lib/python3.10/site-packages (from python-dateutil>=2.8.2->awslabs.mcp_lambda_handler) (1.17.0)\n",
      "Downloading awslabs_mcp_lambda_handler-0.1.6-py3-none-any.whl (16 kB)\n",
      "Installing collected packages: awslabs.mcp_lambda_handler\n",
      "Successfully installed awslabs.mcp_lambda_handler-0.1.6\n"
     ]
    }
   ],
   "source": [
    "!pip install awslabs.mcp_lambda_handler"
   ]
  },
  {
   "cell_type": "code",
   "execution_count": 15,
   "id": "26fdc4f9",
   "metadata": {},
   "outputs": [],
   "source": [
    "from awslabs.mcp_lambda_handler import MCPLambdaHandler\n",
    "mcp_server = MCPLambdaHandler(name=\"mcp-lambda-server\", version=\"1.0.0\")"
   ]
  },
  {
   "cell_type": "code",
   "execution_count": 16,
   "id": "6deb7577",
   "metadata": {},
   "outputs": [],
   "source": [
    "@mcp_server.tool()\n",
    "def search_web(query: str) -> str:\n",
    "    \"\"\"Searches the web for the given query and returns the results.\"\"\"\n",
    "    # In a real scenario, this would integrate with a web search API\n",
    "    \n",
    "\n",
    "\n",
    "@mcp_server.tool()\n",
    "def get_current_time() -> str:\n",
    "    \"\"\"Returns the current date and time.\"\"\"\n",
    "    import datetime\n",
    "    return datetime.datetime.now().strftime(\"%Y-%m-%d %H:%M:%S\")"
   ]
  },
  {
   "cell_type": "code",
   "execution_count": 17,
   "id": "bb611363",
   "metadata": {},
   "outputs": [
    {
     "name": "stdout",
     "output_type": "stream",
     "text": [
      "Collecting pyjokes\n",
      "  Downloading pyjokes-0.8.3-py3-none-any.whl.metadata (3.4 kB)\n",
      "Downloading pyjokes-0.8.3-py3-none-any.whl (47 kB)\n",
      "Installing collected packages: pyjokes\n",
      "Successfully installed pyjokes-0.8.3\n"
     ]
    }
   ],
   "source": [
    "!pip install pyjokes"
   ]
  },
  {
   "cell_type": "code",
   "execution_count": 28,
   "id": "d5a45e93",
   "metadata": {},
   "outputs": [
    {
     "name": "stdout",
     "output_type": "stream",
     "text": [
      "I went to a street where the houses were numbered 8k, 16k, 32k, 64k, 128k, 256k and 512k. It was a trip down Memory Lane.\n"
     ]
    }
   ],
   "source": [
    "import pyjokes\n",
    "print(pyjokes.get_joke())"
   ]
  },
  {
   "cell_type": "code",
   "execution_count": 21,
   "id": "9650d608",
   "metadata": {},
   "outputs": [
    {
     "data": {
      "text/plain": [
       "<module 'pyjokes' from '/home/ec2-user/anaconda3/envs/pytorch_p310/lib/python3.10/site-packages/pyjokes/__init__.py'>"
      ]
     },
     "execution_count": 21,
     "metadata": {},
     "output_type": "execute_result"
    }
   ],
   "source": [
    "pyjokes"
   ]
  },
  {
   "cell_type": "code",
   "execution_count": 29,
   "id": "2be9c0d0",
   "metadata": {},
   "outputs": [],
   "source": [
    "import logging"
   ]
  },
  {
   "cell_type": "code",
   "execution_count": null,
   "id": "42ac5753",
   "metadata": {},
   "outputs": [],
   "source": []
  }
 ],
 "metadata": {
  "kernelspec": {
   "display_name": "conda_pytorch_p310",
   "language": "python",
   "name": "conda_pytorch_p310"
  },
  "language_info": {
   "codemirror_mode": {
    "name": "ipython",
    "version": 3
   },
   "file_extension": ".py",
   "mimetype": "text/x-python",
   "name": "python",
   "nbconvert_exporter": "python",
   "pygments_lexer": "ipython3",
   "version": "3.10.14"
  }
 },
 "nbformat": 4,
 "nbformat_minor": 5
}
